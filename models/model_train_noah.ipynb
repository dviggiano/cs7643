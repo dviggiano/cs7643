{
 "cells": [
  {
   "cell_type": "code",
   "execution_count": 1,
   "id": "c4dff362",
   "metadata": {},
   "outputs": [
    {
     "name": "stdout",
     "output_type": "stream",
     "text": [
      "Using device: cuda\n"
     ]
    }
   ],
   "source": [
    "import os\n",
    "import random\n",
    "import numpy as np\n",
    "import torch\n",
    "import torch.nn as nn\n",
    "import torch.optim as optim\n",
    "from torch.utils.data import Dataset, DataLoader\n",
    "from tqdm import tqdm\n",
    "from cnn_noah import CNN\n",
    "from unet_noah import UNet\n",
    "\n",
    "seed = 42\n",
    "random.seed(seed)\n",
    "np.random.seed(seed)\n",
    "torch.manual_seed(seed)\n",
    "torch.cuda.manual_seed_all(seed)\n",
    "torch.backends.cudnn.deterministic = True\n",
    "torch.backends.cudnn.benchmark = False\n",
    "\n",
    "%load_ext autoreload\n",
    "%autoreload 2\n",
    "\n",
    "device = torch.device('cuda' if torch.cuda.is_available() else 'cpu')\n",
    "print(f\"Using device: {device}\")"
   ]
  },
  {
   "cell_type": "markdown",
   "id": "90c8ff32",
   "metadata": {},
   "source": [
    "## Dataset Creation"
   ]
  },
  {
   "cell_type": "code",
   "execution_count": 2,
   "id": "8ecde010",
   "metadata": {},
   "outputs": [],
   "source": [
    "class SpectrogramDataset(Dataset):\n",
    "    \"\"\"\n",
    "    Custom Dataset for loading spectrograms and source targets from .pt files.\n",
    "    Assumes data_dir contains subfolders for each song, each with multiple clip folders, each containing mix.pt and one .pt per source.\n",
    "    \"\"\"\n",
    "    def __init__(self, data_dir, sources=['vocals', 'drums', 'bass', 'other']):\n",
    "        self.data_dir = data_dir\n",
    "        self.sources = sources\n",
    "        self.samples = []\n",
    "\n",
    "        for song in os.listdir(data_dir):\n",
    "            if song == \"Remember December - C U Next Time\":\n",
    "                continue  # no bass.pt for this song\n",
    "\n",
    "            song_path = os.path.join(data_dir, song)\n",
    "            for clip in os.listdir(song_path):\n",
    "                clip_path = os.path.join(song_path, clip)\n",
    "                mix_path = os.path.join(clip_path, 'mix.pt')\n",
    "                target_paths = [os.path.join(clip_path, f'{src}.pt') for src in sources]\n",
    "                self.samples.append((mix_path, target_paths))\n",
    "\n",
    "    def __len__(self):\n",
    "        return len(self.samples)\n",
    "\n",
    "    def __getitem__(self, idx):\n",
    "        mix_path, target_paths = self.samples[idx]\n",
    "        mix = torch.load(mix_path)  # shape: [freq, time]\n",
    "        mix = mix.unsqueeze(0)  # [1, freq, time]\n",
    "        targets = torch.stack([torch.load(tp) for tp in target_paths], dim=0)  # [n_sources, freq, time]\n",
    "        return mix.float(), targets.float()"
   ]
  },
  {
   "cell_type": "markdown",
   "id": "519df7c8",
   "metadata": {},
   "source": [
    "## Data Loading, Training, & Testing"
   ]
  },
  {
   "cell_type": "code",
   "execution_count": 3,
   "id": "a052620c",
   "metadata": {},
   "outputs": [],
   "source": [
    "# TODO: hyper-parameter tuning\n",
    "# Hyper-parameters\n",
    "BATCH_SIZE = 4\n",
    "EPOCHS = 5  # TODO: increase when model architecture finalized\n",
    "LEARNING_RATE = 1e-3\n",
    "\n",
    "# Data loaders\n",
    "sources = ['vocals', 'drums', 'bass', 'other']\n",
    "train_dir = '../data/musdb18hq/spectrograms/train'\n",
    "test_dir = '../data/musdb18hq/spectrograms/test'\n",
    "train_dataset = SpectrogramDataset(train_dir)\n",
    "test_dataset = SpectrogramDataset(test_dir)\n",
    "train_loader = DataLoader(train_dataset, batch_size=BATCH_SIZE, shuffle=True)\n",
    "test_loader = DataLoader(test_dataset, batch_size=BATCH_SIZE, shuffle=False)"
   ]
  },
  {
   "cell_type": "code",
   "execution_count": null,
   "id": "99bd59c0",
   "metadata": {},
   "outputs": [],
   "source": [
    "def train_model(model, criterion, optimizer):\n",
    "    for epoch in range(1, EPOCHS + 1):\n",
    "        model.train()\n",
    "        train_loss = 0\n",
    "        \n",
    "        for mix, targets in tqdm(train_loader, desc=f'Epoch {epoch}/{EPOCHS}'):\n",
    "            mix, targets = mix.to(device), targets.to(device)\n",
    "            optimizer.zero_grad()\n",
    "            outputs = model(mix)\n",
    "            \n",
    "            # Crop targets to match outputs shape (for U-Net)\n",
    "            if outputs.shape != targets.shape:\n",
    "                _, _, h, w = outputs.shape\n",
    "                targets = targets[:, :, :h, :w]\n",
    "            \n",
    "            loss = criterion(outputs, targets)\n",
    "            loss.backward()\n",
    "            optimizer.step()\n",
    "            train_loss += loss.item() * mix.size(0)\n",
    "        \n",
    "        train_loss /= len(train_loader.dataset)\n",
    "        print(f'Epoch {epoch}: Train Loss = {train_loss:.4f}')\n",
    "    \n",
    "# TODO: better evaluation metrics (SDR, etc.)\n",
    "# TODO: hearing the output .pt files\n",
    "def test_model(model, criterion):\n",
    "    model.eval()\n",
    "    test_loss = 0\n",
    "    criterion = nn.MSELoss()\n",
    "    \n",
    "    with torch.no_grad():\n",
    "        for mix, targets in test_loader:\n",
    "            mix, targets = mix.to(device), targets.to(device)\n",
    "            outputs = model(mix)\n",
    "\n",
    "            # Crop targets to match outputs shape (for U-Net)\n",
    "            if outputs.shape != targets.shape:\n",
    "                _, _, h, w = outputs.shape\n",
    "                targets = targets[:, :, :h, :w]\n",
    "            \n",
    "            loss = criterion(outputs, targets)\n",
    "            test_loss += loss.item() * mix.size(0)\n",
    "    \n",
    "    test_loss /= len(test_loader.dataset)\n",
    "    print(f\"Test Loss = {test_loss:.4f}\")"
   ]
  },
  {
   "cell_type": "markdown",
   "id": "f48e8506",
   "metadata": {},
   "source": [
    "## CNN Training"
   ]
  },
  {
   "cell_type": "code",
   "execution_count": 5,
   "id": "b69785fe",
   "metadata": {},
   "outputs": [
    {
     "name": "stderr",
     "output_type": "stream",
     "text": [
      "Epoch 1/5: 100%|██████████| 553/553 [02:06<00:00,  4.36it/s]\n",
      "Epoch 1/5: 100%|██████████| 553/553 [02:06<00:00,  4.36it/s]\n"
     ]
    },
    {
     "name": "stdout",
     "output_type": "stream",
     "text": [
      "Epoch 1: Train Loss = 0.0247\n"
     ]
    },
    {
     "name": "stderr",
     "output_type": "stream",
     "text": [
      "Epoch 2/5: 100%|██████████| 553/553 [02:07<00:00,  4.33it/s]\n",
      "Epoch 2/5: 100%|██████████| 553/553 [02:07<00:00,  4.33it/s]\n"
     ]
    },
    {
     "name": "stdout",
     "output_type": "stream",
     "text": [
      "Epoch 2: Train Loss = 0.0202\n"
     ]
    },
    {
     "name": "stderr",
     "output_type": "stream",
     "text": [
      "Epoch 3/5: 100%|██████████| 553/553 [02:08<00:00,  4.29it/s]\n",
      "Epoch 3/5: 100%|██████████| 553/553 [02:08<00:00,  4.29it/s]\n"
     ]
    },
    {
     "name": "stdout",
     "output_type": "stream",
     "text": [
      "Epoch 3: Train Loss = 0.0197\n"
     ]
    },
    {
     "name": "stderr",
     "output_type": "stream",
     "text": [
      "Epoch 4/5: 100%|██████████| 553/553 [02:08<00:00,  4.32it/s]\n",
      "Epoch 4/5: 100%|██████████| 553/553 [02:08<00:00,  4.32it/s]\n"
     ]
    },
    {
     "name": "stdout",
     "output_type": "stream",
     "text": [
      "Epoch 4: Train Loss = 0.0194\n"
     ]
    },
    {
     "name": "stderr",
     "output_type": "stream",
     "text": [
      "Epoch 5/5: 100%|██████████| 553/553 [02:07<00:00,  4.34it/s]\n",
      "\n"
     ]
    },
    {
     "name": "stdout",
     "output_type": "stream",
     "text": [
      "Epoch 5: Train Loss = 0.0192\n"
     ]
    }
   ],
   "source": [
    "# TODO: appropriate criterion and optimizer?\n",
    "cnn_model = CNN(n_sources=len(sources)).to(device)\n",
    "criterion = nn.MSELoss()\n",
    "optimizer = optim.Adam(cnn_model.parameters(), lr=LEARNING_RATE)\n",
    "\n",
    "train_model(cnn_model, criterion, optimizer)"
   ]
  },
  {
   "cell_type": "code",
   "execution_count": 6,
   "id": "1cffd539",
   "metadata": {},
   "outputs": [],
   "source": [
    "torch.save(cnn_model.state_dict(), \"cnn_noah.pth\")"
   ]
  },
  {
   "cell_type": "markdown",
   "id": "70d3ed77",
   "metadata": {},
   "source": [
    "## CNN Test Evaluation"
   ]
  },
  {
   "cell_type": "code",
   "execution_count": 7,
   "id": "3d528c6a",
   "metadata": {},
   "outputs": [
    {
     "name": "stdout",
     "output_type": "stream",
     "text": [
      "Test Loss = 0.0204\n"
     ]
    }
   ],
   "source": [
    "cnn_model = CNN(n_sources=len(sources)).to(device)\n",
    "cnn_model.load_state_dict(torch.load(\"cnn_noah.pth\"))\n",
    "\n",
    "test_model(cnn_model, criterion)"
   ]
  },
  {
   "cell_type": "markdown",
   "id": "8e449ee8",
   "metadata": {},
   "source": [
    "## U-Net Training"
   ]
  },
  {
   "cell_type": "code",
   "execution_count": 8,
   "id": "8882bd67",
   "metadata": {},
   "outputs": [
    {
     "name": "stderr",
     "output_type": "stream",
     "text": [
      "Epoch 1/5: 100%|██████████| 553/553 [00:45<00:00, 12.28it/s]\n",
      "Epoch 1/5: 100%|██████████| 553/553 [00:45<00:00, 12.28it/s]\n"
     ]
    },
    {
     "name": "stdout",
     "output_type": "stream",
     "text": [
      "Epoch 1: Train Loss = 0.0240\n"
     ]
    },
    {
     "name": "stderr",
     "output_type": "stream",
     "text": [
      "Epoch 2/5: 100%|██████████| 553/553 [00:44<00:00, 12.45it/s]\n",
      "Epoch 2/5: 100%|██████████| 553/553 [00:44<00:00, 12.45it/s]\n"
     ]
    },
    {
     "name": "stdout",
     "output_type": "stream",
     "text": [
      "Epoch 2: Train Loss = 0.0187\n"
     ]
    },
    {
     "name": "stderr",
     "output_type": "stream",
     "text": [
      "Epoch 3/5: 100%|██████████| 553/553 [00:44<00:00, 12.53it/s]\n",
      "Epoch 3/5: 100%|██████████| 553/553 [00:44<00:00, 12.53it/s]\n"
     ]
    },
    {
     "name": "stdout",
     "output_type": "stream",
     "text": [
      "Epoch 3: Train Loss = 0.0175\n"
     ]
    },
    {
     "name": "stderr",
     "output_type": "stream",
     "text": [
      "Epoch 4/5: 100%|██████████| 553/553 [00:44<00:00, 12.43it/s]\n",
      "Epoch 4/5: 100%|██████████| 553/553 [00:44<00:00, 12.43it/s]\n"
     ]
    },
    {
     "name": "stdout",
     "output_type": "stream",
     "text": [
      "Epoch 4: Train Loss = 0.0167\n"
     ]
    },
    {
     "name": "stderr",
     "output_type": "stream",
     "text": [
      "Epoch 5/5: 100%|██████████| 553/553 [00:45<00:00, 12.26it/s]"
     ]
    },
    {
     "name": "stdout",
     "output_type": "stream",
     "text": [
      "Epoch 5: Train Loss = 0.0160\n"
     ]
    },
    {
     "name": "stderr",
     "output_type": "stream",
     "text": [
      "\n"
     ]
    }
   ],
   "source": [
    "# TODO: appropriate criterion and optimizer?\n",
    "unet_model = UNet(n_sources=len(sources)).to(device)\n",
    "criterion = nn.MSELoss()\n",
    "optimizer = optim.Adam(unet_model.parameters(), lr=LEARNING_RATE)\n",
    "\n",
    "train_model(unet_model, criterion, optimizer)"
   ]
  },
  {
   "cell_type": "code",
   "execution_count": 9,
   "id": "a5707c82",
   "metadata": {},
   "outputs": [],
   "source": [
    "torch.save(unet_model.state_dict(), \"unet_noah.pth\")"
   ]
  },
  {
   "cell_type": "markdown",
   "id": "76d3a978",
   "metadata": {},
   "source": [
    "## U-Net Test Evaluation"
   ]
  },
  {
   "cell_type": "code",
   "execution_count": 12,
   "id": "1f4a7718",
   "metadata": {},
   "outputs": [
    {
     "name": "stdout",
     "output_type": "stream",
     "text": [
      "Test Loss = 0.0159\n"
     ]
    }
   ],
   "source": [
    "unet_model = UNet(n_sources=len(sources)).to(device)\n",
    "unet_model.load_state_dict(torch.load(\"unet_noah.pth\"))\n",
    "\n",
    "test_model(unet_model, criterion)"
   ]
  }
 ],
 "metadata": {
  "kernelspec": {
   "display_name": ".venv",
   "language": "python",
   "name": "python3"
  },
  "language_info": {
   "codemirror_mode": {
    "name": "ipython",
    "version": 3
   },
   "file_extension": ".py",
   "mimetype": "text/x-python",
   "name": "python",
   "nbconvert_exporter": "python",
   "pygments_lexer": "ipython3",
   "version": "3.12.1"
  }
 },
 "nbformat": 4,
 "nbformat_minor": 5
}
